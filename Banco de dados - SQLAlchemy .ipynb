{
 "cells": [
  {
   "cell_type": "markdown",
   "metadata": {},
   "source": [
    "# Projetando um app de controle de finanças\n",
    "\n",
    "A ideia é construir uma aplicação que ajude a ver para onde o dinheiro está indo.\n",
    "\n",
    "* Definição de metas;\n",
    "* Cadastro de contas;\n",
    "* Cadastro de cartões;\n",
    "* Enviar e-mail;\n"
   ]
  },
  {
   "cell_type": "markdown",
   "metadata": {},
   "source": [
    "### Models"
   ]
  },
  {
   "cell_type": "code",
   "execution_count": 1,
   "metadata": {},
   "outputs": [],
   "source": [
    "import enum\n",
    "import os\n",
    "\n",
    "import datetime\n",
    "\n",
    "from sqlalchemy import (Column, DateTime, Enum, ForeignKey, Integer, Numeric,\n",
    "                        String, Table, create_engine, select)\n",
    "from sqlalchemy.ext.declarative import declarative_base\n",
    "from sqlalchemy.orm import relationship, scoped_session, sessionmaker\n",
    "\n"
   ]
  },
  {
   "cell_type": "code",
   "execution_count": 2,
   "metadata": {},
   "outputs": [],
   "source": [
    "Base = declarative_base()\n",
    "\n",
    "\n",
    "class TransactionType(enum.Enum):\n",
    "    \"\"\"Enum.\"\"\"\n",
    "\n",
    "    INCOME = 0\n",
    "    OUTGO = 1\n",
    "    TRANSFER = 2\n",
    "\n",
    "\n",
    "class PaymentType(enum.Enum):\n",
    "    \n",
    "    CASH = 0\n",
    "    DEBIT = 1\n",
    "    CREDIT = 2\n",
    "\n",
    "\n",
    "class MySession():\n",
    "    \"\"\"Sessão com BD.\n",
    "    Para definir a sessão com o BD na aplicação. Para os\n",
    "    testes, passando o parâmetro test=True, um BD na memória\n",
    "    \"\"\"\n",
    "\n",
    "    def __init__(self, base, test=False):\n",
    "        \"\"\"Inicializa.\"\"\"\n",
    "        if test:\n",
    "            path = ':memory:'\n",
    "        else:\n",
    "            path = ':memory:'\n",
    "        self._engine = create_engine('sqlite:///' + path, convert_unicode=True)\n",
    "        Session = sessionmaker(bind=self._engine)\n",
    "        if test:\n",
    "            self._session = Session()\n",
    "        else:\n",
    "            self._session = scoped_session(Session)\n",
    "            base.metadata.bind = self._engine\n",
    "\n",
    "    @property\n",
    "    def session(self):\n",
    "        \"\"\"Session.\"\"\"\n",
    "        return self._session\n",
    "\n",
    "    @property\n",
    "    def engine(self):\n",
    "        \"\"\"Engine.\"\"\"\n",
    "        return self._engine\n",
    "    \n",
    "    \n",
    "class User(Base):\n",
    "    __tablename__ = 'user'\n",
    "    id = Column(Integer, primary_key=True)\n",
    "    username = Column(String(50), unique=True)\n",
    "    _password = Column(String(30))\n",
    "    \n",
    "    def __init__(self, username, password):\n",
    "        self.username = username\n",
    "        self._password = password\n",
    "        \n",
    "    def __repr__(self):\n",
    "        return f'User {self.username}'\n",
    "\n",
    "\n",
    "account_transaction = Table('Account_Transaction', Base.metadata,\n",
    "                           Column('account_id', Integer, ForeignKey('account.id')),\n",
    "                           Column('transaction_id', Integer, ForeignKey('transaction.id')))\n",
    "\n",
    "\n",
    "class Account(Base):\n",
    "    \"\"\"docstring for Account\"\"\"\n",
    "    __tablename__ = 'account'\n",
    "    id = Column(Integer, primary_key=True)\n",
    "    bank = Column(String(50))\n",
    "    description = Column(String(50), unique=True)\n",
    "    balance = Column(Numeric(asdecimal=False))\n",
    "    user_id = Column(Integer, ForeignKey('user.id'))\n",
    "    creditcard_id = Column(Integer, ForeignKey(\n",
    "        \"creditcard.id\"))\n",
    "    transaction = relationship('Transaction',\n",
    "                              secondary=account_transaction,\n",
    "                              backref='account')\n",
    "\n",
    "    def __init__(self, description, bank, balance, user, creditcard = None):\n",
    "        self.description = description\n",
    "        self.bank = bank\n",
    "        self.balance = balance\n",
    "        self.user_id = user.id\n",
    "        if(creditcard):\n",
    "            self.creditcard_id = creditcard.id\n",
    "\n",
    "\n",
    "class Transaction(Base):\n",
    "    \"\"\"docstring for Transaction\"\"\"\n",
    "    __tablename__ = 'transaction'\n",
    "    id = Column(Integer, primary_key=True)\n",
    "    description = Column(String(50))\n",
    "    value = Column(Numeric(asdecimal=False))\n",
    "    date = Column(DateTime)\n",
    "    payed_with = Column(Enum(PaymentType))\n",
    "    parcels = Column(Integer, default=1)\n",
    "    category_id = Column(Integer, ForeignKey('category.id'))\n",
    "    transaction_type = Column(Enum(TransactionType))\n",
    "    \n",
    "    def __init__(self, description, value, date, payed_with, parcels, category, transaction_type):\n",
    "        self.description = description\n",
    "        self.value = value\n",
    "        self.date = date\n",
    "        self.payed_with = payed_with\n",
    "        self.parcels = parcels\n",
    "        self.category_id = category.id\n",
    "        self.transaction_type = transaction_type\n",
    "\n",
    "\n",
    "class Category(Base):\n",
    "    \"\"\"docstring for Categoria\"\"\"\n",
    "    __tablename__ = 'category'\n",
    "    id = Column(Integer, primary_key=True)\n",
    "    description = Column(String(50), unique=True)\n",
    "\n",
    "    def __init__(self, description):\n",
    "        self.description = description\n",
    "\n",
    "\n",
    "class CreditCard(Base):\n",
    "    __tablename__ = 'creditcard'\n",
    "    id = Column(Integer, primary_key=True)\n",
    "    limit = Column(Numeric(asdecimal=False))\n",
    "    date_pay = Column(DateTime)\n",
    "    \n",
    "    def __init__(self, limit, account, date_pay):\n",
    "        self.limit = limit\n",
    "        self.account_id = account.id\n",
    "        self.date_pay = date_pay\n",
    "        \n",
    "\n",
    "\n"
   ]
  },
  {
   "cell_type": "code",
   "execution_count": 3,
   "metadata": {},
   "outputs": [],
   "source": [
    "#----------------------------\n",
    "# Turn Foreign Key Constraints ON for\n",
    "# each connection.\n",
    "#----------------------------\n",
    "\n",
    "from sqlalchemy.engine import Engine\n",
    "from sqlalchemy import event\n",
    "\n",
    "@event.listens_for(Engine, \"connect\")\n",
    "def set_sqlite_pragma(dbapi_connection, connection_record):\n",
    "    cursor = dbapi_connection.cursor()\n",
    "    cursor.execute(\"PRAGMA foreign_keys=ON\")\n",
    "    cursor.close()\n",
    "\n",
    "#----------------------------\n",
    "# Create the engine\n",
    "#----------------------------\n",
    "\n",
    "#----------------------------\n",
    "# Create the Schema\n",
    "#----------------------------\n",
    "\n",
    "mysession = MySession(Base)\n",
    "dbsession = mysession.session\n",
    "engine = mysession.engine\n",
    "\n",
    "Base.metadata.create_all(engine)\n",
    "\n",
    "#----------------------------\n",
    "# Create the Session class \n",
    "#----------------------------\n",
    "\n",
    "\n",
    "\n",
    "# from sqlalchemy.orm import sessionmaker\n",
    "# Session = sessionmaker(bind=engine)\n",
    "\n",
    "#----------------------------\n",
    "# Populate the database \n",
    "#----------------------------\n"
   ]
  },
  {
   "cell_type": "code",
   "execution_count": 4,
   "metadata": {},
   "outputs": [],
   "source": [
    "def user_registration(username:str, password:str):\n",
    "    user = User(username, password)\n",
    "    dbsession.add(user)\n",
    "    dbsession.commit()\n",
    "\n",
    "def create_account(bank:str, description:str, balance:str, user:User):\n",
    "    account = Account(description, bank, balance, user)\n",
    "    dbsession.add(account)\n",
    "    dbsession.commit()\n",
    "\n",
    "def add_creditcard(limit:float, account:Account, date_pay:datetime):\n",
    "    creditcard = CreditCard(limit, account, date_pay)\n",
    "    dbsession.add(creditcard)\n",
    "    dbsession.commit()\n",
    "\n",
    "def create_category(description:str):\n",
    "    category = Category(description)\n",
    "    dbsession.add(category)\n",
    "    dbsession.commit()\n",
    "\n",
    "def add_transaction(description, value, date, payed_with, parcels, category, transaction_type):\n",
    "    transaction = Transaction(description, value, date, payed_with, parcels, category, transaction_type)\n",
    "    dbsession.add(transaction)\n",
    "    dbsession.commit()\n"
   ]
  },
  {
   "cell_type": "code",
   "execution_count": 5,
   "metadata": {},
   "outputs": [],
   "source": [
    "user_registration('gi', 'senha')\n",
    "\n",
    "usern = dbsession.query(User).filter(User.username == 'gi').first()\n",
    "\n",
    "create_account('Itaú', 'Conta', 500, usern)\n",
    "\n",
    "accountn = dbsession.query(Account).all()"
   ]
  },
  {
   "cell_type": "code",
   "execution_count": 6,
   "metadata": {},
   "outputs": [],
   "source": [
    "create_category('Moradia')"
   ]
  },
  {
   "cell_type": "code",
   "execution_count": 7,
   "metadata": {},
   "outputs": [
    {
     "data": {
      "text/plain": [
       "<__main__.Category at 0x7f8da6e51160>"
      ]
     },
     "execution_count": 7,
     "metadata": {},
     "output_type": "execute_result"
    }
   ],
   "source": [
    "cat = dbsession.query(Category).first()\n",
    "cat"
   ]
  },
  {
   "cell_type": "code",
   "execution_count": 8,
   "metadata": {},
   "outputs": [
    {
     "data": {
      "text/plain": [
       "datetime.datetime(2019, 5, 18, 16, 5, 19, 256563)"
      ]
     },
     "execution_count": 8,
     "metadata": {},
     "output_type": "execute_result"
    }
   ],
   "source": [
    "datetime.datetime.now()"
   ]
  },
  {
   "cell_type": "code",
   "execution_count": 9,
   "metadata": {},
   "outputs": [],
   "source": [
    "add_transaction('teste', 20, datetime.datetime.now(), PaymentType.CASH, 1, cat, TransactionType.OUTGO)"
   ]
  },
  {
   "cell_type": "code",
   "execution_count": 10,
   "metadata": {},
   "outputs": [],
   "source": [
    "acc = dbsession.query(Account).join(User).filter(User.id == Account.user_id).first()\n",
    "add_creditcard(1000, acc, datetime.datetime.now())"
   ]
  },
  {
   "cell_type": "code",
   "execution_count": 11,
   "metadata": {
    "scrolled": true
   },
   "outputs": [
    {
     "data": {
      "text/plain": [
       "{'_sa_instance_state': <sqlalchemy.orm.state.InstanceState at 0x7f8da6e44898>,\n",
       " 'description': 'Conta',\n",
       " 'id': 1,\n",
       " 'creditcard_id': None,\n",
       " 'balance': 500,\n",
       " 'bank': 'Itaú',\n",
       " 'user_id': 1}"
      ]
     },
     "execution_count": 11,
     "metadata": {},
     "output_type": "execute_result"
    }
   ],
   "source": [
    "vars(dbsession.query(Account).join(User).filter(User.id == Account.user_id).first())"
   ]
  },
  {
   "cell_type": "code",
   "execution_count": 12,
   "metadata": {
    "scrolled": false
   },
   "outputs": [
    {
     "data": {
      "text/plain": [
       "{'_sa_instance_state': <sqlalchemy.orm.state.InstanceState at 0x7f8da6e44898>,\n",
       " 'description': 'Conta',\n",
       " 'id': 1,\n",
       " 'creditcard_id': None,\n",
       " 'balance': 500,\n",
       " 'bank': 'Itaú',\n",
       " 'user_id': 1}"
      ]
     },
     "execution_count": 12,
     "metadata": {},
     "output_type": "execute_result"
    }
   ],
   "source": [
    "vars(dbsession.query(Account).filter(Account.user_id == 1).first())"
   ]
  },
  {
   "cell_type": "code",
   "execution_count": 13,
   "metadata": {},
   "outputs": [],
   "source": [
    "trans = dbsession.query(Transaction).first()"
   ]
  },
  {
   "cell_type": "code",
   "execution_count": 14,
   "metadata": {},
   "outputs": [
    {
     "data": {
      "text/plain": [
       "{'_sa_instance_state': <sqlalchemy.orm.state.InstanceState at 0x7f8da6e6f710>,\n",
       " 'category_id': 1,\n",
       " 'payed_with': <PaymentType.CASH: 0>,\n",
       " 'date': datetime.datetime(2019, 5, 18, 16, 5, 19, 340432),\n",
       " 'description': 'teste',\n",
       " 'transaction_type': <TransactionType.OUTGO: 1>,\n",
       " 'parcels': 1,\n",
       " 'value': 20,\n",
       " 'id': 1}"
      ]
     },
     "execution_count": 14,
     "metadata": {},
     "output_type": "execute_result"
    }
   ],
   "source": [
    "vars(trans)"
   ]
  },
  {
   "cell_type": "code",
   "execution_count": 15,
   "metadata": {},
   "outputs": [],
   "source": [
    "acc.transaction.append(trans)"
   ]
  },
  {
   "cell_type": "code",
   "execution_count": 16,
   "metadata": {},
   "outputs": [
    {
     "data": {
      "text/plain": [
       "[(1, 1)]"
      ]
     },
     "execution_count": 16,
     "metadata": {},
     "output_type": "execute_result"
    }
   ],
   "source": [
    "dbsession.query(account_transaction).all()"
   ]
  },
  {
   "cell_type": "code",
   "execution_count": 17,
   "metadata": {},
   "outputs": [
    {
     "name": "stdout",
     "output_type": "stream",
     "text": [
      "{'_sa_instance_state': <sqlalchemy.orm.state.InstanceState object at 0x7f8da6e6f710>, 'category_id': 1, 'payed_with': <PaymentType.CASH: 0>, 'date': datetime.datetime(2019, 5, 18, 16, 5, 19, 340432), 'description': 'teste', 'transaction_type': <TransactionType.OUTGO: 1>, 'parcels': 1, 'value': 20, 'id': 1}\n"
     ]
    }
   ],
   "source": [
    "for t in acc.transaction:\n",
    "    print(vars(t))"
   ]
  },
  {
   "cell_type": "code",
   "execution_count": null,
   "metadata": {},
   "outputs": [],
   "source": [
    "from flask_bcrypt import Bcrypt"
   ]
  }
 ],
 "metadata": {
  "kernelspec": {
   "display_name": "Python 3",
   "language": "python",
   "name": "python3"
  },
  "language_info": {
   "codemirror_mode": {
    "name": "ipython",
    "version": 3
   },
   "file_extension": ".py",
   "mimetype": "text/x-python",
   "name": "python",
   "nbconvert_exporter": "python",
   "pygments_lexer": "ipython3",
   "version": "3.6.7"
  }
 },
 "nbformat": 4,
 "nbformat_minor": 2
}
