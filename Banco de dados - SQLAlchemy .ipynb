{
 "cells": [
  {
   "cell_type": "markdown",
   "metadata": {},
   "source": [
    "# Projetando um app de controle de finanças\n",
    "\n",
    "A ideia é construir uma aplicação que ajude a ver para onde o dinheiro está indo.\n",
    "\n",
    "* Definição de metas;\n",
    "* Cadastro de contas;\n",
    "* Cadastro de cartões; "
   ]
  },
  {
   "cell_type": "markdown",
   "metadata": {},
   "source": [
    "### Models"
   ]
  },
  {
   "cell_type": "code",
   "execution_count": 11,
   "metadata": {},
   "outputs": [],
   "source": [
    "import enum\n",
    "import os\n",
    "\n",
    "import datetime\n",
    "\n",
    "from sqlalchemy import (Column, DateTime, Enum, ForeignKey, Integer, Numeric,\n",
    "                        String, Table, create_engine, select)\n",
    "from sqlalchemy.ext.declarative import declarative_base\n",
    "from sqlalchemy.orm import relationship, scoped_session, sessionmaker\n",
    "\n"
   ]
  },
  {
   "cell_type": "code",
   "execution_count": 3,
   "metadata": {},
   "outputs": [],
   "source": [
    "Base = declarative_base()\n",
    "\n",
    "\n",
    "class TransactionType(enum.Enum):\n",
    "    \"\"\"Enum.\"\"\"\n",
    "\n",
    "    INCOME = 0\n",
    "    OUTGO = 1\n",
    "    TRANSFER = 2\n",
    "\n",
    "\n",
    "class PaymentType(enum.Enum):\n",
    "    \n",
    "    CASH = 0\n",
    "    DEBIT = 1\n",
    "    CREDIT = 2\n",
    "\n",
    "\n",
    "class MySession():\n",
    "    \"\"\"Sessão com BD.\n",
    "    Para definir a sessão com o BD na aplicação. Para os\n",
    "    testes, passando o parâmetro test=True, um BD na memória\n",
    "    \"\"\"\n",
    "\n",
    "    def __init__(self, base, test=False):\n",
    "        \"\"\"Inicializa.\"\"\"\n",
    "        if test:\n",
    "            path = ':memory:'\n",
    "        else:\n",
    "            path = ':memory:'\n",
    "        self._engine = create_engine('sqlite:///' + path, convert_unicode=True)\n",
    "        Session = sessionmaker(bind=self._engine)\n",
    "        if test:\n",
    "            self._session = Session()\n",
    "        else:\n",
    "            self._session = scoped_session(Session)\n",
    "            base.metadata.bind = self._engine\n",
    "\n",
    "    @property\n",
    "    def session(self):\n",
    "        \"\"\"Session.\"\"\"\n",
    "        return self._session\n",
    "\n",
    "    @property\n",
    "    def engine(self):\n",
    "        \"\"\"Engine.\"\"\"\n",
    "        return self._engine\n",
    "    \n",
    "    \n",
    "class User(Base):\n",
    "    __tablename__ = 'user'\n",
    "    id = Column(Integer, primary_key=True)\n",
    "    username = Column(String(50), unique=True)\n",
    "    password = Column(String(30))\n",
    "    \n",
    "    def __init__(self, username, password):\n",
    "        self.username = username\n",
    "        self.password = password\n",
    "\n",
    "\n",
    "account_transaction = Table('Account_Transaction', Base.metadata,\n",
    "                           Column('account_id', Integer, ForeignKey('account.id')),\n",
    "                           Column('transaction_id', Integer, ForeignKey('transaction.id')))\n",
    "\n",
    "class Account(Base):\n",
    "    \"\"\"docstring for Account\"\"\"\n",
    "    __tablename__ = 'account'\n",
    "    id = Column(Integer, primary_key=True)\n",
    "    bank = Column(String(50))\n",
    "    description = Column(String(50), unique=True)\n",
    "    balance = Column(Numeric(asdecimal=False))\n",
    "    user_id = Column(Integer, ForeignKey('user.id'))\n",
    "    creditcard_id = Column(Integer, ForeignKey(\n",
    "        \"creditcard.id\"))\n",
    "    transaction = relationship('Account',\n",
    "                              secondary=account_transaction,\n",
    "                              back_populates='transaction')\n",
    "\n",
    "    def __init__(self, description, bank, balance, user, creditcard = None):\n",
    "        self.description = description\n",
    "        self.bank = bank\n",
    "        self.balance = balance\n",
    "        self.user_id = user.id\n",
    "        if(creditcard):\n",
    "            self.creditcard_id = creditcard.id\n",
    "\n",
    "\n",
    "class Transaction(Base):\n",
    "    \"\"\"docstring for Transaction\"\"\"\n",
    "    __tablename__ = 'transaction'\n",
    "    id = Column(Integer, primary_key=True)\n",
    "    description = Column(String(50))\n",
    "    outgo_id = Column(Integer, ForeignKey('outgo.id'))\n",
    "    income_id = Column(Integer, ForeignKey('income.id'))\n",
    "    account = relationship('Transaction',\n",
    "                          secondary=account_transaction,\n",
    "                          back_populates='account')\n",
    "    \n",
    "    def __init__(self, outgo, income):\n",
    "        self.outgo_id = outgo.id\n",
    "        self.income_id = income.id\n",
    "\n",
    "\n",
    "class Category(Base):\n",
    "    \"\"\"docstring for Categoria\"\"\"\n",
    "    __tablename__ = 'category'\n",
    "    id = Column(Integer, primary_key=True)\n",
    "    description = Column(String(50), unique=True)\n",
    "\n",
    "    def __init__(self, description):\n",
    "        self.description = description\n",
    "\n",
    "\n",
    "class Income(Base):\n",
    "    \"\"\"docstring for Income\"\"\"\n",
    "    __tablename__ = 'income'\n",
    "    id = Column(Integer, primary_key=True)\n",
    "    value = Column(Numeric(asdecimal=False))\n",
    "    description = Column(String(50))\n",
    "    date = Column(DateTime)\n",
    "    category_id = Column(Integer, ForeignKey('category.id'))\n",
    "\n",
    "    def __init__(self, value, description, date, category):\n",
    "        super(Income, self).__init__()\n",
    "        self.value = value\n",
    "        self.description = description\n",
    "        self.date = date\n",
    "        self.category_id = category.id\n",
    "\n",
    "\n",
    "class Outgo(Base):\n",
    "    \"\"\"docstring for Outgo\"\"\"\n",
    "    __tablename__ = 'outgo'\n",
    "    id = Column(Integer, primary_key=True)\n",
    "    value = Column(Numeric(asdecimal=False))\n",
    "    description = Column(String(50))\n",
    "    date = Column(DateTime)\n",
    "    category_id = Column(Integer, ForeignKey('category.id'))\n",
    "\n",
    "    def __init__(self, value, description, date, category):\n",
    "        super(Outgo, self).__init__()\n",
    "        self.value = value\n",
    "        self.description = description\n",
    "        self.date = date\n",
    "        self.category_id = category.id\n",
    "\n",
    "\n",
    "creditcard_purchase = Table('creditcard_purchase', Base.metadata, \n",
    "                            Column('creditcard_id', Integer, \n",
    "                                   ForeignKey('creditcard.id')), \n",
    "                            Column('purchase_id', Integer, \n",
    "                                   ForeignKey('purchase.id')))\n",
    "\n",
    "\n",
    "class CreditCard(Base):\n",
    "    __tablename__ = 'creditcard'\n",
    "    id = Column(Integer, primary_key=True)\n",
    "    limit = Column(Numeric(asdecimal=False))\n",
    "    date_pay = Column(DateTime)\n",
    "    account_id = Column(Integer, ForeignKey('account.id'))\n",
    "    purchase = relationship('Purchase', secondary=creditcard_purchase, back_populates='creditcard')\n",
    "    \n",
    "    def __init__(self, limit, account, date_pay):\n",
    "        self.limit = limit\n",
    "        self.account_id = account.id\n",
    "        self.date_pay = date_pay\n",
    "        \n",
    "\n",
    "class Purchase(Base):\n",
    "    __tablename__ = 'purchase'\n",
    "    id = Column(Integer, primary_key=True)\n",
    "    description = Column(String(50))\n",
    "    value = Column(Numeric(asdecimal=True))\n",
    "    date = Column(DateTime)\n",
    "    payed_with = Column(Enum(PaymentType))\n",
    "    category_id = Column(Integer, ForeignKey('category.id'))\n",
    "    creditcard = relationship('CreditCard', \n",
    "                              secondary=creditcard_purchase, \n",
    "                              back_populates='purchase')\n",
    "    \n",
    "    def __init__(self, description, value, date, payed_with):\n",
    "        self.description = description\n",
    "        self.value = value\n",
    "        self.date = date\n",
    "        self.payed_with = payed_with\n",
    "\n"
   ]
  },
  {
   "cell_type": "code",
   "execution_count": 4,
   "metadata": {},
   "outputs": [],
   "source": [
    "mysession = MySession(Base)\n",
    "dbsession = mysession.session\n",
    "engine = mysession.engine"
   ]
  },
  {
   "cell_type": "code",
   "execution_count": 5,
   "metadata": {},
   "outputs": [],
   "source": [
    "Base.metadata.create_all()"
   ]
  },
  {
   "cell_type": "code",
   "execution_count": null,
   "metadata": {},
   "outputs": [],
   "source": [
    "user1 = dbsession.query(User).first()"
   ]
  },
  {
   "cell_type": "code",
   "execution_count": null,
   "metadata": {},
   "outputs": [],
   "source": [
    "vars(user1)"
   ]
  },
  {
   "cell_type": "code",
   "execution_count": 12,
   "metadata": {},
   "outputs": [],
   "source": [
    "def user_registration(username:str, password:str):\n",
    "    user = User(username, password)\n",
    "    dbsession.add(user)\n",
    "    dbsession.commit()\n",
    "\n",
    "def create_account(bank:str, description:str, balance:str, user:User):\n",
    "    account = Account(description, bank, balance, user)\n",
    "    dbsession.add(account)\n",
    "    dbsession.commit()\n",
    "\n",
    "def add_creditcard(limit:float, account:Account, date_pay:datetime):\n",
    "    creditcard = CreditCard(limit, account, date_pay)\n",
    "    dbsession.add(creditcard)\n",
    "    dbsession.commit()"
   ]
  },
  {
   "cell_type": "code",
   "execution_count": 7,
   "metadata": {},
   "outputs": [],
   "source": [
    "user_registration('gi', 'senha')\n",
    "\n",
    "usern = dbsession.query(User).filter(User.username == 'gi').first()\n",
    "\n",
    "create_account('Itaú', 'Conta', 500, usern)\n",
    "\n",
    "accountn = dbsession.query(Account).all()"
   ]
  },
  {
   "cell_type": "code",
   "execution_count": 17,
   "metadata": {},
   "outputs": [],
   "source": [
    "acc = dbsession.query(Account).join(User).filter(User.id == Account.user_id).first()\n",
    "add_creditcard(1000, acc, datetime.datetime.now())"
   ]
  },
  {
   "cell_type": "code",
   "execution_count": 16,
   "metadata": {},
   "outputs": [
    {
     "data": {
      "text/plain": [
       "datetime.datetime(2019, 5, 15, 20, 54, 26, 411450)"
      ]
     },
     "execution_count": 16,
     "metadata": {},
     "output_type": "execute_result"
    }
   ],
   "source": [
    "datetime.datetime.now()"
   ]
  },
  {
   "cell_type": "code",
   "execution_count": 21,
   "metadata": {},
   "outputs": [
    {
     "ename": "AmbiguousForeignKeysError",
     "evalue": "Can't determine join between 'account' and 'creditcard'; tables have more than one foreign key constraint relationship between them. Please specify the 'onclause' of this join explicitly.",
     "output_type": "error",
     "traceback": [
      "\u001b[0;31m---------------------------------------------------------------------------\u001b[0m",
      "\u001b[0;31mAmbiguousForeignKeysError\u001b[0m                 Traceback (most recent call last)",
      "\u001b[0;32m<ipython-input-21-30c6ca55c6f3>\u001b[0m in \u001b[0;36m<module>\u001b[0;34m\u001b[0m\n\u001b[0;32m----> 1\u001b[0;31m \u001b[0mvars\u001b[0m\u001b[0;34m(\u001b[0m\u001b[0mdbsession\u001b[0m\u001b[0;34m.\u001b[0m\u001b[0mquery\u001b[0m\u001b[0;34m(\u001b[0m\u001b[0mAccount\u001b[0m\u001b[0;34m)\u001b[0m\u001b[0;34m.\u001b[0m\u001b[0mjoin\u001b[0m\u001b[0;34m(\u001b[0m\u001b[0mCreditCard\u001b[0m\u001b[0;34m)\u001b[0m\u001b[0;34m.\u001b[0m\u001b[0mfilter\u001b[0m\u001b[0;34m(\u001b[0m\u001b[0mCreditCard\u001b[0m\u001b[0;34m.\u001b[0m\u001b[0mid\u001b[0m \u001b[0;34m==\u001b[0m \u001b[0mAccount\u001b[0m\u001b[0;34m.\u001b[0m\u001b[0mcreditcard_id\u001b[0m\u001b[0;34m)\u001b[0m\u001b[0;34m.\u001b[0m\u001b[0mfirst\u001b[0m\u001b[0;34m(\u001b[0m\u001b[0;34m)\u001b[0m\u001b[0;34m)\u001b[0m\u001b[0;34m\u001b[0m\u001b[0;34m\u001b[0m\u001b[0m\n\u001b[0m",
      "\u001b[0;32m~/.virtualenvs/python-CJ5YlM2n/lib/python3.6/site-packages/sqlalchemy/orm/query.py\u001b[0m in \u001b[0;36mjoin\u001b[0;34m(self, *props, **kwargs)\u001b[0m\n\u001b[1;32m   2233\u001b[0m             \u001b[0mfull\u001b[0m\u001b[0;34m=\u001b[0m\u001b[0mfull\u001b[0m\u001b[0;34m,\u001b[0m\u001b[0;34m\u001b[0m\u001b[0;34m\u001b[0m\u001b[0m\n\u001b[1;32m   2234\u001b[0m             \u001b[0mcreate_aliases\u001b[0m\u001b[0;34m=\u001b[0m\u001b[0maliased\u001b[0m\u001b[0;34m,\u001b[0m\u001b[0;34m\u001b[0m\u001b[0;34m\u001b[0m\u001b[0m\n\u001b[0;32m-> 2235\u001b[0;31m             \u001b[0mfrom_joinpoint\u001b[0m\u001b[0;34m=\u001b[0m\u001b[0mfrom_joinpoint\u001b[0m\u001b[0;34m,\u001b[0m\u001b[0;34m\u001b[0m\u001b[0;34m\u001b[0m\u001b[0m\n\u001b[0m\u001b[1;32m   2236\u001b[0m         )\n\u001b[1;32m   2237\u001b[0m \u001b[0;34m\u001b[0m\u001b[0m\n",
      "\u001b[0;32m<string>\u001b[0m in \u001b[0;36m_join\u001b[0;34m(self, keys, outerjoin, full, create_aliases, from_joinpoint)\u001b[0m\n",
      "\u001b[0;32m~/.virtualenvs/python-CJ5YlM2n/lib/python3.6/site-packages/sqlalchemy/orm/base.py\u001b[0m in \u001b[0;36mgenerate\u001b[0;34m(fn, *args, **kw)\u001b[0m\n\u001b[1;32m    218\u001b[0m         \u001b[0;32mfor\u001b[0m \u001b[0massertion\u001b[0m \u001b[0;32min\u001b[0m \u001b[0massertions\u001b[0m\u001b[0;34m:\u001b[0m\u001b[0;34m\u001b[0m\u001b[0;34m\u001b[0m\u001b[0m\n\u001b[1;32m    219\u001b[0m             \u001b[0massertion\u001b[0m\u001b[0;34m(\u001b[0m\u001b[0mself\u001b[0m\u001b[0;34m,\u001b[0m \u001b[0mfn\u001b[0m\u001b[0;34m.\u001b[0m\u001b[0m__name__\u001b[0m\u001b[0;34m)\u001b[0m\u001b[0;34m\u001b[0m\u001b[0;34m\u001b[0m\u001b[0m\n\u001b[0;32m--> 220\u001b[0;31m         \u001b[0mfn\u001b[0m\u001b[0;34m(\u001b[0m\u001b[0mself\u001b[0m\u001b[0;34m,\u001b[0m \u001b[0;34m*\u001b[0m\u001b[0margs\u001b[0m\u001b[0;34m[\u001b[0m\u001b[0;36m1\u001b[0m\u001b[0;34m:\u001b[0m\u001b[0;34m]\u001b[0m\u001b[0;34m,\u001b[0m \u001b[0;34m**\u001b[0m\u001b[0mkw\u001b[0m\u001b[0;34m)\u001b[0m\u001b[0;34m\u001b[0m\u001b[0;34m\u001b[0m\u001b[0m\n\u001b[0m\u001b[1;32m    221\u001b[0m         \u001b[0;32mreturn\u001b[0m \u001b[0mself\u001b[0m\u001b[0;34m\u001b[0m\u001b[0;34m\u001b[0m\u001b[0m\n\u001b[1;32m    222\u001b[0m \u001b[0;34m\u001b[0m\u001b[0m\n",
      "\u001b[0;32m~/.virtualenvs/python-CJ5YlM2n/lib/python3.6/site-packages/sqlalchemy/orm/query.py\u001b[0m in \u001b[0;36m_join\u001b[0;34m(self, keys, outerjoin, full, create_aliases, from_joinpoint)\u001b[0m\n\u001b[1;32m   2412\u001b[0m             \u001b[0;31m# ORMJoin to add to our _from_obj tuple\u001b[0m\u001b[0;34m\u001b[0m\u001b[0;34m\u001b[0m\u001b[0;34m\u001b[0m\u001b[0m\n\u001b[1;32m   2413\u001b[0m             self._join_left_to_right(\n\u001b[0;32m-> 2414\u001b[0;31m                 \u001b[0mleft\u001b[0m\u001b[0;34m,\u001b[0m \u001b[0mright\u001b[0m\u001b[0;34m,\u001b[0m \u001b[0monclause\u001b[0m\u001b[0;34m,\u001b[0m \u001b[0mprop\u001b[0m\u001b[0;34m,\u001b[0m \u001b[0mcreate_aliases\u001b[0m\u001b[0;34m,\u001b[0m \u001b[0mouterjoin\u001b[0m\u001b[0;34m,\u001b[0m \u001b[0mfull\u001b[0m\u001b[0;34m\u001b[0m\u001b[0;34m\u001b[0m\u001b[0m\n\u001b[0m\u001b[1;32m   2415\u001b[0m             )\n\u001b[1;32m   2416\u001b[0m \u001b[0;34m\u001b[0m\u001b[0m\n",
      "\u001b[0;32m~/.virtualenvs/python-CJ5YlM2n/lib/python3.6/site-packages/sqlalchemy/orm/query.py\u001b[0m in \u001b[0;36m_join_left_to_right\u001b[0;34m(self, left, right, onclause, prop, create_aliases, outerjoin, full)\u001b[0m\n\u001b[1;32m   2486\u001b[0m             self._from_obj = self._from_obj + (\n\u001b[1;32m   2487\u001b[0m                 orm_join(\n\u001b[0;32m-> 2488\u001b[0;31m                     \u001b[0mleft_clause\u001b[0m\u001b[0;34m,\u001b[0m \u001b[0mright\u001b[0m\u001b[0;34m,\u001b[0m \u001b[0monclause\u001b[0m\u001b[0;34m,\u001b[0m \u001b[0misouter\u001b[0m\u001b[0;34m=\u001b[0m\u001b[0mouterjoin\u001b[0m\u001b[0;34m,\u001b[0m \u001b[0mfull\u001b[0m\u001b[0;34m=\u001b[0m\u001b[0mfull\u001b[0m\u001b[0;34m\u001b[0m\u001b[0;34m\u001b[0m\u001b[0m\n\u001b[0m\u001b[1;32m   2489\u001b[0m                 ),\n\u001b[1;32m   2490\u001b[0m             )\n",
      "\u001b[0;32m~/.virtualenvs/python-CJ5YlM2n/lib/python3.6/site-packages/sqlalchemy/orm/util.py\u001b[0m in \u001b[0;36mjoin\u001b[0;34m(left, right, onclause, isouter, full, join_to_left)\u001b[0m\n\u001b[1;32m   1140\u001b[0m \u001b[0;34m\u001b[0m\u001b[0m\n\u001b[1;32m   1141\u001b[0m     \"\"\"\n\u001b[0;32m-> 1142\u001b[0;31m     \u001b[0;32mreturn\u001b[0m \u001b[0m_ORMJoin\u001b[0m\u001b[0;34m(\u001b[0m\u001b[0mleft\u001b[0m\u001b[0;34m,\u001b[0m \u001b[0mright\u001b[0m\u001b[0;34m,\u001b[0m \u001b[0monclause\u001b[0m\u001b[0;34m,\u001b[0m \u001b[0misouter\u001b[0m\u001b[0;34m,\u001b[0m \u001b[0mfull\u001b[0m\u001b[0;34m)\u001b[0m\u001b[0;34m\u001b[0m\u001b[0;34m\u001b[0m\u001b[0m\n\u001b[0m\u001b[1;32m   1143\u001b[0m \u001b[0;34m\u001b[0m\u001b[0m\n\u001b[1;32m   1144\u001b[0m \u001b[0;34m\u001b[0m\u001b[0m\n",
      "\u001b[0;32m~/.virtualenvs/python-CJ5YlM2n/lib/python3.6/site-packages/sqlalchemy/orm/util.py\u001b[0m in \u001b[0;36m__init__\u001b[0;34m(self, left, right, onclause, isouter, full, _left_memo, _right_memo)\u001b[0m\n\u001b[1;32m   1039\u001b[0m             \u001b[0mself\u001b[0m\u001b[0;34m.\u001b[0m\u001b[0m_target_adapter\u001b[0m \u001b[0;34m=\u001b[0m \u001b[0mtarget_adapter\u001b[0m\u001b[0;34m\u001b[0m\u001b[0;34m\u001b[0m\u001b[0m\n\u001b[1;32m   1040\u001b[0m \u001b[0;34m\u001b[0m\u001b[0m\n\u001b[0;32m-> 1041\u001b[0;31m         \u001b[0mexpression\u001b[0m\u001b[0;34m.\u001b[0m\u001b[0mJoin\u001b[0m\u001b[0;34m.\u001b[0m\u001b[0m__init__\u001b[0m\u001b[0;34m(\u001b[0m\u001b[0mself\u001b[0m\u001b[0;34m,\u001b[0m \u001b[0mleft\u001b[0m\u001b[0;34m,\u001b[0m \u001b[0mright\u001b[0m\u001b[0;34m,\u001b[0m \u001b[0monclause\u001b[0m\u001b[0;34m,\u001b[0m \u001b[0misouter\u001b[0m\u001b[0;34m,\u001b[0m \u001b[0mfull\u001b[0m\u001b[0;34m)\u001b[0m\u001b[0;34m\u001b[0m\u001b[0;34m\u001b[0m\u001b[0m\n\u001b[0m\u001b[1;32m   1042\u001b[0m \u001b[0;34m\u001b[0m\u001b[0m\n\u001b[1;32m   1043\u001b[0m         if (\n",
      "\u001b[0;32m~/.virtualenvs/python-CJ5YlM2n/lib/python3.6/site-packages/sqlalchemy/sql/selectable.py\u001b[0m in \u001b[0;36m__init__\u001b[0;34m(self, left, right, onclause, isouter, full)\u001b[0m\n\u001b[1;32m    727\u001b[0m \u001b[0;34m\u001b[0m\u001b[0m\n\u001b[1;32m    728\u001b[0m         \u001b[0;32mif\u001b[0m \u001b[0monclause\u001b[0m \u001b[0;32mis\u001b[0m \u001b[0;32mNone\u001b[0m\u001b[0;34m:\u001b[0m\u001b[0;34m\u001b[0m\u001b[0;34m\u001b[0m\u001b[0m\n\u001b[0;32m--> 729\u001b[0;31m             \u001b[0mself\u001b[0m\u001b[0;34m.\u001b[0m\u001b[0monclause\u001b[0m \u001b[0;34m=\u001b[0m \u001b[0mself\u001b[0m\u001b[0;34m.\u001b[0m\u001b[0m_match_primaries\u001b[0m\u001b[0;34m(\u001b[0m\u001b[0mself\u001b[0m\u001b[0;34m.\u001b[0m\u001b[0mleft\u001b[0m\u001b[0;34m,\u001b[0m \u001b[0mself\u001b[0m\u001b[0;34m.\u001b[0m\u001b[0mright\u001b[0m\u001b[0;34m)\u001b[0m\u001b[0;34m\u001b[0m\u001b[0;34m\u001b[0m\u001b[0m\n\u001b[0m\u001b[1;32m    730\u001b[0m         \u001b[0;32melse\u001b[0m\u001b[0;34m:\u001b[0m\u001b[0;34m\u001b[0m\u001b[0;34m\u001b[0m\u001b[0m\n\u001b[1;32m    731\u001b[0m             \u001b[0mself\u001b[0m\u001b[0;34m.\u001b[0m\u001b[0monclause\u001b[0m \u001b[0;34m=\u001b[0m \u001b[0monclause\u001b[0m\u001b[0;34m\u001b[0m\u001b[0;34m\u001b[0m\u001b[0m\n",
      "\u001b[0;32m~/.virtualenvs/python-CJ5YlM2n/lib/python3.6/site-packages/sqlalchemy/sql/selectable.py\u001b[0m in \u001b[0;36m_match_primaries\u001b[0;34m(self, left, right)\u001b[0m\n\u001b[1;32m    870\u001b[0m         \u001b[0;32melse\u001b[0m\u001b[0;34m:\u001b[0m\u001b[0;34m\u001b[0m\u001b[0;34m\u001b[0m\u001b[0m\n\u001b[1;32m    871\u001b[0m             \u001b[0mleft_right\u001b[0m \u001b[0;34m=\u001b[0m \u001b[0;32mNone\u001b[0m\u001b[0;34m\u001b[0m\u001b[0;34m\u001b[0m\u001b[0m\n\u001b[0;32m--> 872\u001b[0;31m         \u001b[0;32mreturn\u001b[0m \u001b[0mself\u001b[0m\u001b[0;34m.\u001b[0m\u001b[0m_join_condition\u001b[0m\u001b[0;34m(\u001b[0m\u001b[0mleft\u001b[0m\u001b[0;34m,\u001b[0m \u001b[0mright\u001b[0m\u001b[0;34m,\u001b[0m \u001b[0ma_subset\u001b[0m\u001b[0;34m=\u001b[0m\u001b[0mleft_right\u001b[0m\u001b[0;34m)\u001b[0m\u001b[0;34m\u001b[0m\u001b[0;34m\u001b[0m\u001b[0m\n\u001b[0m\u001b[1;32m    873\u001b[0m \u001b[0;34m\u001b[0m\u001b[0m\n\u001b[1;32m    874\u001b[0m     \u001b[0;34m@\u001b[0m\u001b[0mclassmethod\u001b[0m\u001b[0;34m\u001b[0m\u001b[0;34m\u001b[0m\u001b[0m\n",
      "\u001b[0;32m<string>\u001b[0m in \u001b[0;36m_join_condition\u001b[0;34m(cls, a, b, ignore_nonexistent_tables, a_subset, consider_as_foreign_keys)\u001b[0m\n",
      "\u001b[0;32m~/.virtualenvs/python-CJ5YlM2n/lib/python3.6/site-packages/sqlalchemy/util/deprecations.py\u001b[0m in \u001b[0;36mwarned\u001b[0;34m(fn, *args, **kwargs)\u001b[0m\n\u001b[1;32m    128\u001b[0m                     )\n\u001b[1;32m    129\u001b[0m \u001b[0;34m\u001b[0m\u001b[0m\n\u001b[0;32m--> 130\u001b[0;31m             \u001b[0;32mreturn\u001b[0m \u001b[0mfn\u001b[0m\u001b[0;34m(\u001b[0m\u001b[0;34m*\u001b[0m\u001b[0margs\u001b[0m\u001b[0;34m,\u001b[0m \u001b[0;34m**\u001b[0m\u001b[0mkwargs\u001b[0m\u001b[0;34m)\u001b[0m\u001b[0;34m\u001b[0m\u001b[0;34m\u001b[0m\u001b[0m\n\u001b[0m\u001b[1;32m    131\u001b[0m \u001b[0;34m\u001b[0m\u001b[0m\n\u001b[1;32m    132\u001b[0m         \u001b[0mdoc\u001b[0m \u001b[0;34m=\u001b[0m \u001b[0mfn\u001b[0m\u001b[0;34m.\u001b[0m\u001b[0m__doc__\u001b[0m \u001b[0;32mis\u001b[0m \u001b[0;32mnot\u001b[0m \u001b[0;32mNone\u001b[0m \u001b[0;32mand\u001b[0m \u001b[0mfn\u001b[0m\u001b[0;34m.\u001b[0m\u001b[0m__doc__\u001b[0m \u001b[0;32mor\u001b[0m \u001b[0;34m\"\"\u001b[0m\u001b[0;34m\u001b[0m\u001b[0;34m\u001b[0m\u001b[0m\n",
      "\u001b[0;32m~/.virtualenvs/python-CJ5YlM2n/lib/python3.6/site-packages/sqlalchemy/sql/selectable.py\u001b[0m in \u001b[0;36m_join_condition\u001b[0;34m(cls, a, b, ignore_nonexistent_tables, a_subset, consider_as_foreign_keys)\u001b[0m\n\u001b[1;32m    921\u001b[0m         \u001b[0;32mif\u001b[0m \u001b[0mlen\u001b[0m\u001b[0;34m(\u001b[0m\u001b[0mconstraints\u001b[0m\u001b[0;34m)\u001b[0m \u001b[0;34m>\u001b[0m \u001b[0;36m1\u001b[0m\u001b[0;34m:\u001b[0m\u001b[0;34m\u001b[0m\u001b[0;34m\u001b[0m\u001b[0m\n\u001b[1;32m    922\u001b[0m             cls._joincond_trim_constraints(\n\u001b[0;32m--> 923\u001b[0;31m                 \u001b[0ma\u001b[0m\u001b[0;34m,\u001b[0m \u001b[0mb\u001b[0m\u001b[0;34m,\u001b[0m \u001b[0mconstraints\u001b[0m\u001b[0;34m,\u001b[0m \u001b[0mconsider_as_foreign_keys\u001b[0m\u001b[0;34m\u001b[0m\u001b[0;34m\u001b[0m\u001b[0m\n\u001b[0m\u001b[1;32m    924\u001b[0m             )\n\u001b[1;32m    925\u001b[0m \u001b[0;34m\u001b[0m\u001b[0m\n",
      "\u001b[0;32m~/.virtualenvs/python-CJ5YlM2n/lib/python3.6/site-packages/sqlalchemy/sql/selectable.py\u001b[0m in \u001b[0;36m_joincond_trim_constraints\u001b[0;34m(cls, a, b, constraints, consider_as_foreign_keys)\u001b[0m\n\u001b[1;32m   1038\u001b[0m                 \u001b[0;34m\"constraint relationship between them. \"\u001b[0m\u001b[0;34m\u001b[0m\u001b[0;34m\u001b[0m\u001b[0m\n\u001b[1;32m   1039\u001b[0m                 \u001b[0;34m\"Please specify the 'onclause' of this \"\u001b[0m\u001b[0;34m\u001b[0m\u001b[0;34m\u001b[0m\u001b[0m\n\u001b[0;32m-> 1040\u001b[0;31m                 \u001b[0;34m\"join explicitly.\"\u001b[0m \u001b[0;34m%\u001b[0m \u001b[0;34m(\u001b[0m\u001b[0ma\u001b[0m\u001b[0;34m.\u001b[0m\u001b[0mdescription\u001b[0m\u001b[0;34m,\u001b[0m \u001b[0mb\u001b[0m\u001b[0;34m.\u001b[0m\u001b[0mdescription\u001b[0m\u001b[0;34m)\u001b[0m\u001b[0;34m\u001b[0m\u001b[0;34m\u001b[0m\u001b[0m\n\u001b[0m\u001b[1;32m   1041\u001b[0m             )\n\u001b[1;32m   1042\u001b[0m \u001b[0;34m\u001b[0m\u001b[0m\n",
      "\u001b[0;31mAmbiguousForeignKeysError\u001b[0m: Can't determine join between 'account' and 'creditcard'; tables have more than one foreign key constraint relationship between them. Please specify the 'onclause' of this join explicitly."
     ]
    }
   ],
   "source": [
    "vars(dbsession.query(Account).join(CreditCard).filter(CreditCard.id == Account.creditcard_id).first())"
   ]
  },
  {
   "cell_type": "code",
   "execution_count": 9,
   "metadata": {},
   "outputs": [
    {
     "data": {
      "text/plain": [
       "{'_sa_instance_state': <sqlalchemy.orm.state.InstanceState at 0x7f3b7b0f1dd8>,\n",
       " 'description': 'Conta',\n",
       " 'id': 1,\n",
       " 'creditcard_id': None,\n",
       " 'balance': 500,\n",
       " 'bank': 'Itaú',\n",
       " 'user_id': 1}"
      ]
     },
     "execution_count": 9,
     "metadata": {},
     "output_type": "execute_result"
    }
   ],
   "source": [
    "vars(dbsession.query(Account).join(User).filter(User.id == Account.user_id).first())"
   ]
  },
  {
   "cell_type": "code",
   "execution_count": 10,
   "metadata": {},
   "outputs": [
    {
     "data": {
      "text/plain": [
       "{'_sa_instance_state': <sqlalchemy.orm.state.InstanceState at 0x7f3b7b0f1dd8>,\n",
       " 'description': 'Conta',\n",
       " 'id': 1,\n",
       " 'creditcard_id': None,\n",
       " 'balance': 500,\n",
       " 'bank': 'Itaú',\n",
       " 'user_id': 1}"
      ]
     },
     "execution_count": 10,
     "metadata": {},
     "output_type": "execute_result"
    }
   ],
   "source": [
    "vars(dbsession.query(Account).filter(Account.user_id == 1).first())"
   ]
  },
  {
   "cell_type": "code",
   "execution_count": null,
   "metadata": {},
   "outputs": [],
   "source": [
    "#----------------------------\n",
    "# Turn Foreign Key Constraints ON for\n",
    "# each connection.\n",
    "#----------------------------\n",
    "\n",
    "from sqlalchemy.engine import Engine\n",
    "from sqlalchemy import event\n",
    "\n",
    "@event.listens_for(Engine, \"connect\")\n",
    "def set_sqlite_pragma(dbapi_connection, connection_record):\n",
    "    cursor = dbapi_connection.cursor()\n",
    "    cursor.execute(\"PRAGMA foreign_keys=ON\")\n",
    "    cursor.close()\n",
    "\n",
    "#----------------------------\n",
    "# Create the engine\n",
    "#----------------------------\n",
    "\n",
    "from sqlalchemy import create_engine\n",
    "engine = create_engine('sqlite:///:memory:', echo=True)\n",
    "\n",
    "#----------------------------\n",
    "# Create the Schema\n",
    "#----------------------------\n",
    "\n",
    "Base.metadata.create_all(engine)\n",
    "\n",
    "#----------------------------\n",
    "# Create the Session class \n",
    "#----------------------------\n",
    "\n",
    "from sqlalchemy.orm import sessionmaker\n",
    "Session = sessionmaker(bind=engine)\n",
    "\n",
    "#----------------------------\n",
    "# Populate the database \n",
    "#----------------------------\n",
    "\n",
    "'''tag_cool = Tag(name='cool')\n",
    "tag_car = Tag(name='car')\n",
    "tag_animal = Tag(name='animal')\n",
    "\n",
    "comment_rhino = Comment(text='Rhinoceros, often abbreviated as rhino, is a group of five extant species of odd-toed ungulates in the family Rhinocerotidae.')\n",
    "\n",
    "image_car = Image(uuid='uuid_car', \\\n",
    "    tags=[tag_car, tag_cool], \\\n",
    "    created_at=(datetime.utcnow() - timedelta(days=1)))\n",
    "\n",
    "image_another_car = Image(uuid='uuid_anothercar', \\\n",
    "    tags=[tag_car])\n",
    "\n",
    "image_rhino = Image(uuid='uuid_rhino', \\\n",
    "    tags=[tag_animal], \\\n",
    "    comments=[comment_rhino])\n",
    "'''\n",
    "\n"
   ]
  },
  {
   "cell_type": "code",
   "execution_count": null,
   "metadata": {},
   "outputs": [],
   "source": [
    "user = User('adauto', 'senha')\n"
   ]
  },
  {
   "cell_type": "code",
   "execution_count": null,
   "metadata": {},
   "outputs": [],
   "source": [
    "creditcard = CreditCard()"
   ]
  },
  {
   "cell_type": "code",
   "execution_count": null,
   "metadata": {},
   "outputs": [],
   "source": [
    "account = Account(\"Conta Corrente\", \"Nubank\", 500, user)"
   ]
  },
  {
   "cell_type": "code",
   "execution_count": null,
   "metadata": {},
   "outputs": [],
   "source": [
    "session = Session()\n",
    "user = User('adauto', 'senha')\n",
    "session.add(user)\n",
    "\n",
    "account = Account(\"Conta Corrente\", \"Nubank\", 500, user)\n",
    "session.add(account)\n",
    "\n",
    "# Commit the changes:\n",
    "session.commit() \n"
   ]
  },
  {
   "cell_type": "code",
   "execution_count": null,
   "metadata": {},
   "outputs": [],
   "source": [
    "accounts = session.query(Account).filter(Account.id == 1).first()\n"
   ]
  },
  {
   "cell_type": "code",
   "execution_count": null,
   "metadata": {},
   "outputs": [],
   "source": [
    "accounts.user_id = 1"
   ]
  },
  {
   "cell_type": "code",
   "execution_count": null,
   "metadata": {},
   "outputs": [],
   "source": [
    "session.add(accounts)\n",
    "session.commit()"
   ]
  },
  {
   "cell_type": "code",
   "execution_count": null,
   "metadata": {},
   "outputs": [],
   "source": [
    "vars(accounts)\n",
    "session.close()"
   ]
  },
  {
   "cell_type": "code",
   "execution_count": null,
   "metadata": {},
   "outputs": [],
   "source": [
    "\n",
    "def create_account(balance = 0, credit_card = None):\n",
    "    return {'balance': balance, 'credit_card': credit_card}\n",
    "\n",
    "def purchase_with_credit(description:str,value:int, date_acquisition:str, parcels=1, finished=False):\n",
    "    return {'value': value, 'description': description, \\\n",
    "            'date_acquisition': date_acquisition, 'parcels': parcels, 'finished': finished}\n",
    "\n",
    "def purchase_with_debit(value):\n",
    "    pass\n",
    "\n",
    "def create_credit_card(limit = 0, purchases = set()):\n",
    "    return {'limit': limit, 'purchases': purchases}\n",
    "\n",
    "credit_card = create_credit_card(limit=6500)\n",
    "account = create_account(210, credit_card)\n",
    "\n",
    "bank = {'name': 'Nubank', 'account': account}\n",
    "\n",
    "bank['account']['credit_card']['purchases'] = [purchase_with_credit('compra', 10, '10/02/2019')]\n",
    "\n",
    "bank"
   ]
  },
  {
   "cell_type": "code",
   "execution_count": null,
   "metadata": {},
   "outputs": [],
   "source": [
    "# Create a new Session and add the data:\n",
    "session = Session()\n",
    "\n",
    "session.add(tag_cool)\n",
    "session.add(tag_car)\n",
    "session.add(tag_animal)\n",
    "\n",
    "session.add(comment_rhino)\n",
    "\n",
    "session.add(image_car)\n",
    "session.add(image_another_car)\n",
    "session.add(image_rhino)\n",
    "\n",
    "# Commit the changes:\n",
    "session.commit() \n"
   ]
  }
 ],
 "metadata": {
  "kernelspec": {
   "display_name": "Python 3",
   "language": "python",
   "name": "python3"
  },
  "language_info": {
   "codemirror_mode": {
    "name": "ipython",
    "version": 3
   },
   "file_extension": ".py",
   "mimetype": "text/x-python",
   "name": "python",
   "nbconvert_exporter": "python",
   "pygments_lexer": "ipython3",
   "version": "3.6.7"
  }
 },
 "nbformat": 4,
 "nbformat_minor": 2
}
